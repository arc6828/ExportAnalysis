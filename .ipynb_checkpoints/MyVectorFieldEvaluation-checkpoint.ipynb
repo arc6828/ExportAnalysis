{
 "cells": [
  {
   "cell_type": "code",
   "execution_count": 1,
   "metadata": {},
   "outputs": [],
   "source": [
    "%load_ext autoreload\n",
    "%autoreload 2"
   ]
  },
  {
   "cell_type": "code",
   "execution_count": 2,
   "metadata": {},
   "outputs": [],
   "source": [
    "import pandas as pd\n",
    "import numpy as np\n",
    "from predict import mydynamo"
   ]
  },
  {
   "cell_type": "code",
   "execution_count": 3,
   "metadata": {},
   "outputs": [
    {
     "data": {
      "text/html": [
       "<div>\n",
       "<style scoped>\n",
       "    .dataframe tbody tr th:only-of-type {\n",
       "        vertical-align: middle;\n",
       "    }\n",
       "\n",
       "    .dataframe tbody tr th {\n",
       "        vertical-align: top;\n",
       "    }\n",
       "\n",
       "    .dataframe thead th {\n",
       "        text-align: right;\n",
       "    }\n",
       "</style>\n",
       "<table border=\"1\" class=\"dataframe\">\n",
       "  <thead>\n",
       "    <tr style=\"text-align: right;\">\n",
       "      <th>package</th>\n",
       "      <th>anndata</th>\n",
       "      <th>colorcet</th>\n",
       "      <th>cvxopt</th>\n",
       "      <th>dynamo-release</th>\n",
       "      <th>hdbscan</th>\n",
       "      <th>loompy</th>\n",
       "      <th>matplotlib</th>\n",
       "      <th>numba</th>\n",
       "      <th>numdifftools</th>\n",
       "      <th>numpy</th>\n",
       "      <th>pandas</th>\n",
       "      <th>pynndescent</th>\n",
       "      <th>python-igraph</th>\n",
       "      <th>scikit-learn</th>\n",
       "      <th>scipy</th>\n",
       "      <th>seaborn</th>\n",
       "      <th>setuptools</th>\n",
       "      <th>statsmodels</th>\n",
       "      <th>tqdm</th>\n",
       "      <th>trimap</th>\n",
       "      <th>umap-learn</th>\n",
       "    </tr>\n",
       "  </thead>\n",
       "  <tbody>\n",
       "    <tr>\n",
       "      <th>version</th>\n",
       "      <td>0.7.5</td>\n",
       "      <td>2.0.2</td>\n",
       "      <td>1.2.5.post1</td>\n",
       "      <td>0.95.2</td>\n",
       "      <td>0.8.26</td>\n",
       "      <td>3.0.6</td>\n",
       "      <td>3.3.3</td>\n",
       "      <td>0.52.0</td>\n",
       "      <td>0.9.39</td>\n",
       "      <td>1.19.3</td>\n",
       "      <td>1.2.0</td>\n",
       "      <td>0.5.1</td>\n",
       "      <td>0.8.3</td>\n",
       "      <td>0.24.0</td>\n",
       "      <td>1.6.0</td>\n",
       "      <td>0.11.1</td>\n",
       "      <td>49.2.1</td>\n",
       "      <td>0.12.1</td>\n",
       "      <td>4.56.0</td>\n",
       "      <td>1.4.3.dev1</td>\n",
       "      <td>0.4.6</td>\n",
       "    </tr>\n",
       "  </tbody>\n",
       "</table>\n",
       "</div>"
      ],
      "text/plain": [
       "package anndata colorcet       cvxopt dynamo-release hdbscan loompy  \\\n",
       "version   0.7.5    2.0.2  1.2.5.post1         0.95.2  0.8.26  3.0.6   \n",
       "\n",
       "package matplotlib   numba numdifftools   numpy pandas pynndescent  \\\n",
       "version      3.3.3  0.52.0       0.9.39  1.19.3  1.2.0       0.5.1   \n",
       "\n",
       "package python-igraph scikit-learn  scipy seaborn setuptools statsmodels  \\\n",
       "version         0.8.3       0.24.0  1.6.0  0.11.1     49.2.1      0.12.1   \n",
       "\n",
       "package    tqdm      trimap umap-learn  \n",
       "version  4.56.0  1.4.3.dev1      0.4.6  "
      ]
     },
     "metadata": {},
     "output_type": "display_data"
    }
   ],
   "source": [
    "mydynamo.config()"
   ]
  },
  {
   "cell_type": "code",
   "execution_count": 4,
   "metadata": {},
   "outputs": [],
   "source": [
    "def select_by_filed(X, key, value, index,dropKey=False):\n",
    "    X_new = X.loc[X[key] == value]\n",
    "    if dropKey :\n",
    "        X_new = X_new.drop([key], axis=1)\n",
    "        X_new = X_new.set_index([index])\n",
    "    else:\n",
    "        X_new = X_new.set_index([index])\n",
    "            \n",
    "    return X_new"
   ]
  },
  {
   "cell_type": "code",
   "execution_count": 41,
   "metadata": {},
   "outputs": [],
   "source": [
    "def average_X(X_old, X_new, year_at) : \n",
    "    X_avg = (X_old.drop(['year_at'], axis=1) + X_new.drop(['year_at'], axis=1) ) /2\n",
    "    X_avg['year_at'] = year_at\n",
    "    return X_avg\n",
    "    \n",
    "    X_avg = pd.concat([X_old, X_new]).groupby(level=0).mean()\n",
    "    X_avg['year_at'] = year_at\n",
    "    return X_avg"
   ]
  },
  {
   "cell_type": "code",
   "execution_count": 81,
   "metadata": {},
   "outputs": [],
   "source": [
    "def evaluate_on_year(year, moving_average=True) :\n",
    "    year_list = [year-3, year-2,year-1,year]    \n",
    "    df_list = []\n",
    "    for year in year_list :    \n",
    "        #X_new => 2XXX\n",
    "        X_temp = select_by_filed(X, 'year_at', year, 'exporter')    \n",
    "        df_list.append(X_temp)\n",
    "\n",
    "    for year in year_list :    \n",
    "        obs_temp = obs.copy()\n",
    "        obs_temp['year_at'] = year\n",
    "        obs_temp['year'] = year\n",
    "        df_list.append(obs_temp)\n",
    "\n",
    "#     [X_answer, X_new, X_old, obs_answer, obs_new, obs_old] = mydynamo.removeOutlier(df_list)\n",
    "    [X_oldest, X_old, X_new, X_answer, obs_oldest, obs_old, obs_new, obs_answer] = mydynamo.removeOutlier(df_list)\n",
    "    \n",
    "    \n",
    "    if moving_average and False :                    \n",
    "        \n",
    "        #BLEND        \n",
    "        X_new = np.ceil( pd.concat([X_old, X_new]).groupby(level=0).mean()  )\n",
    "        X_new['year_at'] = year-1\n",
    "        \n",
    "        X_old = np.ceil( pd.concat([X_old, X_oldest]).groupby(level=0).mean() )\n",
    "        X_old['year_at'] = year-2\n",
    "#         X_new = X_new + 1\n",
    "#         X_old = X_old + 1\n",
    "\n",
    "    # obs\n",
    "    # X_all = pd.concat(X_list)\n",
    "    # obs_all = pd.concat(obs_list);\n",
    "\n",
    "    # var\n",
    "    var = pd.DataFrame(np.array(X.columns)[2:], columns=['hscode'])\n",
    "    var = var.set_index('hscode')\n",
    "    # var\n",
    "\n",
    "    # RESET & SET INDEX\n",
    "    X_answer = X_answer.reset_index().set_index(['exporter','year_at'])\n",
    "    X_new = X_new.reset_index().set_index(['exporter','year_at'])\n",
    "    X_old = X_old.reset_index().set_index(['exporter','year_at'])\n",
    "    X_oldest = X_oldest.reset_index().set_index(['exporter','year_at'])\n",
    "    obs_answer = obs_answer.reset_index().set_index(['name','year_at'])\n",
    "    obs_new = obs_new.reset_index().set_index(['name','year_at'])\n",
    "    obs_old = obs_old.reset_index().set_index(['name','year_at'])\n",
    "    \n",
    "    \n",
    "\n",
    "    adata = mydynamo.createAnnotationDataForVectorField(\n",
    "        [X_old, X_new, X_answer], \n",
    "        [obs_old, obs_new, obs_answer], \n",
    "        var\n",
    "    )\n",
    "#     print(adata)\n",
    "#     return adata\n",
    "    mydynamo.dynamoProcess(adata)\n",
    "    adata3 = mydynamo.createVectorFieldForEvaluation(adata)\n",
    "    adata4 = mydynamo.knnToVectorField(adata3, 1)\n",
    "#     mse = mydynamo.evaluate(adata3)\n",
    "    mse = mydynamo.evaluate(adata4)\n",
    "    return mse\n",
    "\n",
    "    "
   ]
  },
  {
   "cell_type": "code",
   "execution_count": 82,
   "metadata": {
    "scrolled": true
   },
   "outputs": [
    {
     "name": "stderr",
     "output_type": "stream",
     "text": [
      "AnnData expects .obs.index to contain strings, but your first indices are: Index([('Afghanistan', 2017), ('Albania', 2017)], dtype='object'), …\n",
      "AnnData expects .obs.index to contain strings, but your first indices are: Index([('Afghanistan', 2017), ('Albania', 2017)], dtype='object'), …\n",
      "calculating transition matrix via pearson kernel with sqrt transform.: 100%|█| \n",
      "projecting velocity vector to low dimensional embedding...: 100%|█| 657/657 [00\n"
     ]
    },
    {
     "name": "stdout",
     "output_type": "stream",
     "text": [
      "Create Vector Field ...\n",
      "KNN\n",
      "Complete : 2019, 0.23291567\n"
     ]
    },
    {
     "name": "stderr",
     "output_type": "stream",
     "text": [
      "AnnData expects .obs.index to contain strings, but your first indices are: Index([('Afghanistan', 2016), ('Albania', 2016)], dtype='object'), …\n",
      "AnnData expects .obs.index to contain strings, but your first indices are: Index([('Afghanistan', 2016), ('Albania', 2016)], dtype='object'), …\n",
      "calculating transition matrix via pearson kernel with sqrt transform.: 100%|█| \n",
      "projecting velocity vector to low dimensional embedding...: 100%|█| 657/657 [00\n"
     ]
    },
    {
     "name": "stdout",
     "output_type": "stream",
     "text": [
      "Create Vector Field ...\n",
      "KNN\n",
      "Complete : 2018, 0.15244205\n"
     ]
    },
    {
     "name": "stderr",
     "output_type": "stream",
     "text": [
      "AnnData expects .obs.index to contain strings, but your first indices are: Index([('Afghanistan', 2015), ('Albania', 2015)], dtype='object'), …\n",
      "AnnData expects .obs.index to contain strings, but your first indices are: Index([('Afghanistan', 2015), ('Albania', 2015)], dtype='object'), …\n",
      "calculating transition matrix via pearson kernel with sqrt transform.: 100%|█| \n",
      "projecting velocity vector to low dimensional embedding...: 100%|█| 657/657 [00\n"
     ]
    },
    {
     "name": "stdout",
     "output_type": "stream",
     "text": [
      "Create Vector Field ...\n",
      "KNN\n"
     ]
    },
    {
     "name": "stderr",
     "output_type": "stream",
     "text": [
      "AnnData expects .obs.index to contain strings, but your first indices are: Index([('Afghanistan', 2014), ('Albania', 2014)], dtype='object'), …\n"
     ]
    },
    {
     "name": "stdout",
     "output_type": "stream",
     "text": [
      "Complete : 2017, 0.49353808\n"
     ]
    },
    {
     "name": "stderr",
     "output_type": "stream",
     "text": [
      "AnnData expects .obs.index to contain strings, but your first indices are: Index([('Afghanistan', 2014), ('Albania', 2014)], dtype='object'), …\n",
      "calculating transition matrix via pearson kernel with sqrt transform.: 100%|█| \n",
      "projecting velocity vector to low dimensional embedding...: 100%|█| 657/657 [00\n"
     ]
    },
    {
     "name": "stdout",
     "output_type": "stream",
     "text": [
      "Create Vector Field ...\n",
      "KNN\n",
      "Complete : 2016, 0.5393859\n"
     ]
    },
    {
     "name": "stderr",
     "output_type": "stream",
     "text": [
      "AnnData expects .obs.index to contain strings, but your first indices are: Index([('Afghanistan', 2013), ('Albania', 2013)], dtype='object'), …\n",
      "AnnData expects .obs.index to contain strings, but your first indices are: Index([('Afghanistan', 2013), ('Albania', 2013)], dtype='object'), …\n",
      "calculating transition matrix via pearson kernel with sqrt transform.: 100%|█| \n",
      "projecting velocity vector to low dimensional embedding...: 100%|█| 657/657 [00\n"
     ]
    },
    {
     "name": "stdout",
     "output_type": "stream",
     "text": [
      "Create Vector Field ...\n",
      "KNN\n"
     ]
    },
    {
     "name": "stderr",
     "output_type": "stream",
     "text": [
      "AnnData expects .obs.index to contain strings, but your first indices are: Index([('Afghanistan', 2012), ('Albania', 2012)], dtype='object'), …\n"
     ]
    },
    {
     "name": "stdout",
     "output_type": "stream",
     "text": [
      "Complete : 2015, 1.0551358\n"
     ]
    },
    {
     "name": "stderr",
     "output_type": "stream",
     "text": [
      "AnnData expects .obs.index to contain strings, but your first indices are: Index([('Afghanistan', 2012), ('Albania', 2012)], dtype='object'), …\n",
      "calculating transition matrix via pearson kernel with sqrt transform.: 100%|█| \n",
      "projecting velocity vector to low dimensional embedding...: 100%|█| 657/657 [00\n"
     ]
    },
    {
     "name": "stdout",
     "output_type": "stream",
     "text": [
      "Create Vector Field ...\n",
      "KNN\n",
      "Complete : 2014, 5.3358116\n"
     ]
    },
    {
     "name": "stderr",
     "output_type": "stream",
     "text": [
      "AnnData expects .obs.index to contain strings, but your first indices are: Index([('Afghanistan', 2011), ('Albania', 2011)], dtype='object'), …\n",
      "AnnData expects .obs.index to contain strings, but your first indices are: Index([('Afghanistan', 2011), ('Albania', 2011)], dtype='object'), …\n",
      "calculating transition matrix via pearson kernel with sqrt transform.: 100%|█| \n",
      "projecting velocity vector to low dimensional embedding...: 100%|█| 657/657 [00\n"
     ]
    },
    {
     "name": "stdout",
     "output_type": "stream",
     "text": [
      "Create Vector Field ...\n",
      "KNN\n"
     ]
    },
    {
     "name": "stderr",
     "output_type": "stream",
     "text": [
      "AnnData expects .obs.index to contain strings, but your first indices are: Index([('Afghanistan', 2010), ('Albania', 2010)], dtype='object'), …\n"
     ]
    },
    {
     "name": "stdout",
     "output_type": "stream",
     "text": [
      "Complete : 2013, 2.5300293\n"
     ]
    },
    {
     "name": "stderr",
     "output_type": "stream",
     "text": [
      "AnnData expects .obs.index to contain strings, but your first indices are: Index([('Afghanistan', 2010), ('Albania', 2010)], dtype='object'), …\n",
      "calculating transition matrix via pearson kernel with sqrt transform.: 100%|█| \n",
      "projecting velocity vector to low dimensional embedding...: 100%|█| 657/657 [00\n"
     ]
    },
    {
     "name": "stdout",
     "output_type": "stream",
     "text": [
      "Create Vector Field ...\n",
      "KNN\n"
     ]
    },
    {
     "name": "stderr",
     "output_type": "stream",
     "text": [
      "AnnData expects .obs.index to contain strings, but your first indices are: Index([('Afghanistan', 2009), ('Albania', 2009)], dtype='object'), …\n"
     ]
    },
    {
     "name": "stdout",
     "output_type": "stream",
     "text": [
      "Complete : 2012, 2.1709676\n"
     ]
    },
    {
     "name": "stderr",
     "output_type": "stream",
     "text": [
      "AnnData expects .obs.index to contain strings, but your first indices are: Index([('Afghanistan', 2009), ('Albania', 2009)], dtype='object'), …\n",
      "calculating transition matrix via pearson kernel with sqrt transform.: 100%|█| \n",
      "projecting velocity vector to low dimensional embedding...: 100%|█| 657/657 [00\n"
     ]
    },
    {
     "name": "stdout",
     "output_type": "stream",
     "text": [
      "Create Vector Field ...\n",
      "KNN\n",
      "Complete : 2011, 1.077741\n"
     ]
    },
    {
     "name": "stderr",
     "output_type": "stream",
     "text": [
      "AnnData expects .obs.index to contain strings, but your first indices are: Index([('Afghanistan', 2008), ('Albania', 2008)], dtype='object'), …\n",
      "AnnData expects .obs.index to contain strings, but your first indices are: Index([('Afghanistan', 2008), ('Albania', 2008)], dtype='object'), …\n",
      "calculating transition matrix via pearson kernel with sqrt transform.: 100%|█| \n",
      "projecting velocity vector to low dimensional embedding...: 100%|█| 657/657 [00\n"
     ]
    },
    {
     "name": "stdout",
     "output_type": "stream",
     "text": [
      "Create Vector Field ...\n",
      "KNN\n"
     ]
    },
    {
     "name": "stderr",
     "output_type": "stream",
     "text": [
      "AnnData expects .obs.index to contain strings, but your first indices are: Index([('Afghanistan', 2007), ('Albania', 2007)], dtype='object'), …\n"
     ]
    },
    {
     "name": "stdout",
     "output_type": "stream",
     "text": [
      "Complete : 2010, 3.5888033\n"
     ]
    },
    {
     "name": "stderr",
     "output_type": "stream",
     "text": [
      "AnnData expects .obs.index to contain strings, but your first indices are: Index([('Afghanistan', 2007), ('Albania', 2007)], dtype='object'), …\n",
      "calculating transition matrix via pearson kernel with sqrt transform.: 100%|█| \n",
      "projecting velocity vector to low dimensional embedding...: 100%|█| 657/657 [00\n"
     ]
    },
    {
     "name": "stdout",
     "output_type": "stream",
     "text": [
      "Create Vector Field ...\n",
      "KNN\n",
      "Complete : 2009, 9.122692\n"
     ]
    },
    {
     "name": "stderr",
     "output_type": "stream",
     "text": [
      "AnnData expects .obs.index to contain strings, but your first indices are: Index([('Afghanistan', 2006), ('Albania', 2006)], dtype='object'), …\n",
      "AnnData expects .obs.index to contain strings, but your first indices are: Index([('Afghanistan', 2006), ('Albania', 2006)], dtype='object'), …\n",
      "calculating transition matrix via pearson kernel with sqrt transform.: 100%|█| \n",
      "projecting velocity vector to low dimensional embedding...: 100%|█| 657/657 [00\n"
     ]
    },
    {
     "name": "stdout",
     "output_type": "stream",
     "text": [
      "Create Vector Field ...\n",
      "KNN\n",
      "Complete : 2008, 8.105801\n"
     ]
    },
    {
     "name": "stderr",
     "output_type": "stream",
     "text": [
      "AnnData expects .obs.index to contain strings, but your first indices are: Index([('Afghanistan', 2005), ('Albania', 2005)], dtype='object'), …\n",
      "AnnData expects .obs.index to contain strings, but your first indices are: Index([('Afghanistan', 2005), ('Albania', 2005)], dtype='object'), …\n",
      "calculating transition matrix via pearson kernel with sqrt transform.: 100%|█| \n",
      "projecting velocity vector to low dimensional embedding...: 100%|█| 657/657 [00\n"
     ]
    },
    {
     "name": "stdout",
     "output_type": "stream",
     "text": [
      "Create Vector Field ...\n",
      "KNN\n",
      "Complete : 2007, 4.3045077\n"
     ]
    },
    {
     "name": "stderr",
     "output_type": "stream",
     "text": [
      "AnnData expects .obs.index to contain strings, but your first indices are: Index([('Afghanistan', 2004), ('Albania', 2004)], dtype='object'), …\n",
      "AnnData expects .obs.index to contain strings, but your first indices are: Index([('Afghanistan', 2004), ('Albania', 2004)], dtype='object'), …\n",
      "calculating transition matrix via pearson kernel with sqrt transform.: 100%|█| \n",
      "projecting velocity vector to low dimensional embedding...: 100%|█| 657/657 [00\n"
     ]
    },
    {
     "name": "stdout",
     "output_type": "stream",
     "text": [
      "Create Vector Field ...\n",
      "KNN\n",
      "Complete : 2006, 4.744582\n"
     ]
    },
    {
     "name": "stderr",
     "output_type": "stream",
     "text": [
      "AnnData expects .obs.index to contain strings, but your first indices are: Index([('Afghanistan', 2003), ('Albania', 2003)], dtype='object'), …\n",
      "AnnData expects .obs.index to contain strings, but your first indices are: Index([('Afghanistan', 2003), ('Albania', 2003)], dtype='object'), …\n",
      "calculating transition matrix via pearson kernel with sqrt transform.: 100%|█| \n",
      "projecting velocity vector to low dimensional embedding...: 100%|█| 657/657 [00\n"
     ]
    },
    {
     "name": "stdout",
     "output_type": "stream",
     "text": [
      "Create Vector Field ...\n",
      "KNN\n",
      "Complete : 2005, 2.4209292\n"
     ]
    },
    {
     "name": "stderr",
     "output_type": "stream",
     "text": [
      "AnnData expects .obs.index to contain strings, but your first indices are: Index([('Afghanistan', 2002), ('Albania', 2002)], dtype='object'), …\n",
      "AnnData expects .obs.index to contain strings, but your first indices are: Index([('Afghanistan', 2002), ('Albania', 2002)], dtype='object'), …\n",
      "calculating transition matrix via pearson kernel with sqrt transform.: 100%|█| \n",
      "projecting velocity vector to low dimensional embedding...: 100%|█| 657/657 [00\n"
     ]
    },
    {
     "name": "stdout",
     "output_type": "stream",
     "text": [
      "Create Vector Field ...\n",
      "KNN\n",
      "Complete : 2004, 1.825236\n"
     ]
    }
   ],
   "source": [
    "#REMOVE OULIERS\n",
    "X = pd.read_csv('data/export-hs4-pivot.csv')\n",
    "obs = pd.read_csv('countries.csv')\n",
    "obs = obs.set_index(['name'])\n",
    "\n",
    "mse_dict = {}\n",
    "mse = []\n",
    "for true_year in range(2019,2003,-1):\n",
    "    mse = evaluate_on_year(true_year)\n",
    "#     break\n",
    "    mse_dict[\"\"+str(true_year)] = mse\n",
    "    print(\"Complete : \" + str(true_year) + \", \" + str(mse))\n"
   ]
  },
  {
   "cell_type": "code",
   "execution_count": 83,
   "metadata": {},
   "outputs": [
    {
     "data": {
      "text/plain": [
       "{'2019': 0.23291567,\n",
       " '2018': 0.15244205,\n",
       " '2017': 0.49353808,\n",
       " '2016': 0.5393859,\n",
       " '2015': 1.0551358,\n",
       " '2014': 5.3358116,\n",
       " '2013': 2.5300293,\n",
       " '2012': 2.1709676,\n",
       " '2011': 1.077741,\n",
       " '2010': 3.5888033,\n",
       " '2009': 9.122692,\n",
       " '2008': 8.105801,\n",
       " '2007': 4.3045077,\n",
       " '2006': 4.744582,\n",
       " '2005': 2.4209292,\n",
       " '2004': 1.825236}"
      ]
     },
     "execution_count": 83,
     "metadata": {},
     "output_type": "execute_result"
    }
   ],
   "source": [
    "mse_dict"
   ]
  },
  {
   "cell_type": "code",
   "execution_count": 84,
   "metadata": {},
   "outputs": [
    {
     "data": {
      "text/plain": [
       "dict_keys(['2019', '2018', '2017', '2016', '2015', '2014', '2013', '2012', '2011', '2010', '2009', '2008', '2007', '2006', '2005', '2004'])"
      ]
     },
     "execution_count": 84,
     "metadata": {},
     "output_type": "execute_result"
    }
   ],
   "source": [
    "mse_dict.keys()"
   ]
  },
  {
   "cell_type": "code",
   "execution_count": 85,
   "metadata": {},
   "outputs": [
    {
     "data": {
      "text/plain": [
       "dict_values([0.23291567, 0.15244205, 0.49353808, 0.5393859, 1.0551358, 5.3358116, 2.5300293, 2.1709676, 1.077741, 3.5888033, 9.122692, 8.105801, 4.3045077, 4.744582, 2.4209292, 1.825236])"
      ]
     },
     "execution_count": 85,
     "metadata": {},
     "output_type": "execute_result"
    }
   ],
   "source": [
    "mse_dict.values()"
   ]
  },
  {
   "cell_type": "code",
   "execution_count": 86,
   "metadata": {},
   "outputs": [
    {
     "data": {
      "text/plain": [
       "<BarContainer object of 16 artists>"
      ]
     },
     "execution_count": 86,
     "metadata": {},
     "output_type": "execute_result"
    },
    {
     "data": {
      "image/png": "[encoded data removed]",
      "text/plain": [
       "<Figure size 4608x432 with 4 Axes>"
      ]
     },
     "metadata": {
      "needs_background": "light"
     },
     "output_type": "display_data"
    }
   ],
   "source": [
    "import matplotlib.pyplot as plt\n",
    "import json\n",
    "fig, axs = plt.subplots(1, 2, figsize=(32, 6), sharey=True)\n",
    "#MSE\n",
    "# MSE = json.loads(X2_new.loc['Thailand'].to_json())\n",
    "\n",
    "\n",
    "\n",
    "with open('results/mse_knn_1.json') as json_file:\n",
    "    MSE = json.load(json_file)\n",
    "axs[0].set_title('Mean Squred Error - KNN 1')\n",
    "axs[0].bar(list(MSE.keys()), list(MSE.values()))\n",
    "\n",
    "with open('results/mse_knn_15.json') as json_file:\n",
    "    MSE = json.load(json_file)\n",
    "axs[1].set_title('Mean Squred Error - KNN 5 ')\n",
    "axs[1].bar(list(MSE.keys()), list(MSE.values()))\n",
    "\n",
    "# with open('results/mse_knn_30.json') as json_file:\n",
    "#     MSE = json.load(json_file)\n",
    "# axs[2].set_title('Mean Squred Error - KNN 30 ')\n",
    "# axs[2].bar(list(MSE.keys()), list(MSE.values()))\n",
    "\n",
    "# with open('results/mse_knn_60.json') as json_file:\n",
    "#     MSE = json.load(json_file)\n",
    "# axs[3].set_title('Mean Squred Error - KNN 60 ')\n",
    "# axs[3].bar(list(MSE.keys()), list(MSE.values()))"
   ]
  },
  {
   "cell_type": "code",
   "execution_count": null,
   "metadata": {},
   "outputs": [],
   "source": []
  },
  {
   "cell_type": "code",
   "execution_count": null,
   "metadata": {},
   "outputs": [],
   "source": []
  }
 ],
 "metadata": {
  "kernelspec": {
   "display_name": "Python 3",
   "language": "python",
   "name": "python3"
  },
  "language_info": {
   "codemirror_mode": {
    "name": "ipython",
    "version": 3
   },
   "file_extension": ".py",
   "mimetype": "text/x-python",
   "name": "python",
   "nbconvert_exporter": "python",
   "pygments_lexer": "ipython3",
   "version": "3.8.7"
  }
 },
 "nbformat": 4,
 "nbformat_minor": 4
}
