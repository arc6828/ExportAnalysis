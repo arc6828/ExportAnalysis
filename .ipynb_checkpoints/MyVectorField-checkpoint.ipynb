{
 "cells": [
  {
   "cell_type": "code",
   "execution_count": 1,
   "metadata": {},
   "outputs": [],
   "source": [
    "import pandas as pd\n",
    "from predict import mydynamo\n",
    "%load_ext autoreload\n",
    "%autoreload 2"
   ]
  },
  {
   "cell_type": "code",
   "execution_count": 12,
   "metadata": {},
   "outputs": [],
   "source": [
    "X = pd.read_csv('data/export-hs4-pivot.csv')\n",
    "#X_new => 2019\n",
    "X_new = X.loc[X['year_at'] == 2019]\n",
    "X_new = X_new.drop(['year_at'], axis=1)\n",
    "X_new = X_new.set_index(['exporter'])\n",
    "\n",
    "#X_old => 2018\n",
    "X_old = X.loc[X['year_at'] == 2018]\n",
    "X_old = X_old.drop(['year_at'], axis=1)\n",
    "X_old = X_old.set_index(['exporter'])\n",
    "\n",
    "obs = pd.read_csv('countries.csv')\n",
    "obs = obs.set_index('name')\n",
    "# obs\n",
    "\n",
    "var = pd.DataFrame(np.array(X.columns)[2:], columns=['hscode'])\n",
    "var = var.set_index('hscode')\n",
    "# var"
   ]
  },
  {
   "cell_type": "code",
   "execution_count": 7,
   "metadata": {
    "scrolled": true
   },
   "outputs": [
    {
     "name": "stdout",
     "output_type": "stream",
     "text": [
      "888\n"
     ]
    }
   ],
   "source": [
    "mydynamo.createAnnotationData(X_new, X_old, obs)"
   ]
  },
  {
   "cell_type": "code",
   "execution_count": 8,
   "metadata": {},
   "outputs": [
    {
     "name": "stdout",
     "output_type": "stream",
     "text": [
      "888\n"
     ]
    }
   ],
   "source": [
    "mydynamo.createAnnotationData(X_new,X_old, None)"
   ]
  },
  {
   "cell_type": "code",
   "execution_count": 9,
   "metadata": {},
   "outputs": [
    {
     "name": "stdout",
     "output_type": "stream",
     "text": [
      "hello\n"
     ]
    }
   ],
   "source": [
    "mydynamo.hello()"
   ]
  },
  {
   "cell_type": "code",
   "execution_count": 10,
   "metadata": {},
   "outputs": [
    {
     "name": "stdout",
     "output_type": "stream",
     "text": [
      "hello2\n"
     ]
    }
   ],
   "source": [
    "mydynamo.hello2()"
   ]
  },
  {
   "cell_type": "code",
   "execution_count": null,
   "metadata": {},
   "outputs": [],
   "source": []
  }
 ],
 "metadata": {
  "kernelspec": {
   "display_name": "Python 3",
   "language": "python",
   "name": "python3"
  },
  "language_info": {
   "codemirror_mode": {
    "name": "ipython",
    "version": 3
   },
   "file_extension": ".py",
   "mimetype": "text/x-python",
   "name": "python",
   "nbconvert_exporter": "python",
   "pygments_lexer": "ipython3",
   "version": "3.8.7"
  }
 },
 "nbformat": 4,
 "nbformat_minor": 4
}
