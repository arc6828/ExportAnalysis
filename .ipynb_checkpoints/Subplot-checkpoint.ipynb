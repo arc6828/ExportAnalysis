{
 "cells": [
  {
   "cell_type": "code",
   "execution_count": 16,
   "metadata": {},
   "outputs": [],
   "source": [
    "import matplotlib\n",
    "import matplotlib.pyplot as plt\n",
    "import matplotlib.gridspec as gridspec\n",
    " \n",
    "import pandas as pd\n",
    "import numpy as np\n",
    "from sklearn.manifold import TSNE \n",
    "import difflib\n",
    "from sklearn.neighbors import KDTree\n"
   ]
  },
  {
   "cell_type": "code",
   "execution_count": 14,
   "metadata": {},
   "outputs": [
    {
     "data": {
      "image/png": "[encoded data removed]",
      "text/plain": [
       "<Figure size 432x288 with 4 Axes>"
      ]
     },
     "metadata": {
      "needs_background": "light"
     },
     "output_type": "display_data"
    }
   ],
   "source": []
  },
  {
   "cell_type": "code",
   "execution_count": 19,
   "metadata": {},
   "outputs": [
    {
     "data": {
      "text/plain": [
       "array([['Afghanistan', 2019, -33.750164, -6.408934],\n",
       "       ['Albania', 2019, -2.6768196, 21.52606],\n",
       "       ['Algeria', 2019, 72.053215, 8.236856],\n",
       "       ['American Samoa', 2019, -30.003767, -26.639093],\n",
       "       ['Andorra', 2019, -10.749763, -9.15278],\n",
       "       ['Angola', 2019, 71.6844, 8.940149],\n",
       "       ['Anguilla', 2019, -29.99512, -27.707747],\n",
       "       ['Antigua and Barbuda', 2019, -36.83574, -25.136797],\n",
       "       ['Argentina', 2019, 35.93946, -21.953339],\n",
       "       ['Armenia', 2019, -1.1931553, 40.532158],\n",
       "       ['Aruba', 2019, -24.33279, -22.310139],\n",
       "       ['Australia', 2019, 69.799416, -6.589834],\n",
       "       ['Austria', 2019, 23.773058, -43.44982],\n",
       "       ['Azerbaijan', 2019, 64.21663, 17.782375],\n",
       "       ['Bahamas', 2019, -27.904575, 33.62376],\n",
       "       ['Bahrain', 2019, 43.327854, 30.898233],\n",
       "       ['Bangladesh', 2019, -11.977902, 68.43725],\n",
       "       ['Barbados', 2019, -11.131473, 15.331741],\n",
       "       ['Belarus', 2019, 39.351215, -1.7327731],\n",
       "       ['Belgium', 2019, 9.1114855, -59.795246],\n",
       "       ['Belize', 2019, -60.22641, 5.7611475],\n",
       "       ['Benin', 2019, -4.094319, -36.94785],\n",
       "       ['Bermuda', 2019, -12.709891, -8.787001],\n",
       "       ['Bhutan', 2019, -21.429968, -22.508564],\n",
       "       ['Bolivia, Plurinational State of', 2019, 20.78415, 46.40057],\n",
       "       ['Bonaire, Sint Eustatius and Saba', 2019, -19.521816, 11.363859],\n",
       "       ['Bosnia and Herzegovina', 2019, 14.815512, 10.369776],\n",
       "       ['Botswana', 2019, -4.459984, -11.047703],\n",
       "       ['Bouvet Island', 2019, -44.787846, -48.833706],\n",
       "       ['Brazil', 2019, 36.250885, -31.519762],\n",
       "       ['British Antarctic Territory', 2019, -45.080826, -48.166668],\n",
       "       ['British Indian Ocean Territory', 2019, -15.964023, 14.685437],\n",
       "       ['British Virgin Islands', 2019, -11.541614, -3.813457],\n",
       "       ['Brunei Darussalam', 2019, 49.57208, 33.070023],\n",
       "       ['Bulgaria', 2019, 34.64253, 9.03343],\n",
       "       ['Burkina Faso', 2019, -2.8906088, -35.87126],\n",
       "       ['Burundi', 2019, -37.97232, 7.056865],\n",
       "       ['Cabo Verde', 2019, -56.375546, 16.986282],\n",
       "       ['Cambodia', 2019, 16.0378, 2.1668837],\n",
       "       ['Cameroon', 2019, 28.266666, 33.398094],\n",
       "       ['Canada', 2019, 2.248512, -61.070904],\n",
       "       ['Cayman Islands', 2019, -24.082014, -42.165447],\n",
       "       ['Central African Republic', 2019, -31.374783, -29.6593],\n",
       "       ['Chad', 2019, 13.583859, 27.95834],\n",
       "       ['Chile', 2019, 16.352102, 58.595848],\n",
       "       ['China', 2019, 44.963055, -57.642647],\n",
       "       ['Christmas Island', 2019, -38.02788, -57.36111],\n",
       "       ['Cocos (Keeling) Islands', 2019, -32.35064, -34.858673],\n",
       "       ['Colombia', 2019, 65.31676, 14.376856],\n",
       "       ['Comoros', 2019, -41.429146, 3.792203],\n",
       "       ['Congo', 2019, 40.571373, 35.936188],\n",
       "       ['Congo, Democratic Republic of th', 2019, 9.770048, 53.24998],\n",
       "       ['Cook Islands', 2019, -64.76664, 4.1420927],\n",
       "       ['Costa Rica', 2019, 8.080253, -5.958405],\n",
       "       ['Croatia', 2019, 28.381279, 2.3969631],\n",
       "       ['Cuba', 2019, -16.659147, 42.15005],\n",
       "       ['Curaçao', 2019, -19.36928, 18.16332],\n",
       "       ['Cyprus', 2019, 11.119677, 24.077698],\n",
       "       ['Czech Republic', 2019, 9.235568, -53.489082],\n",
       "       [\"Côte d'Ivoire\", 2019, 22.894089, 27.72497],\n",
       "       ['Denmark', 2019, 51.232628, -22.842209],\n",
       "       ['Djibouti', 2019, -50.331383, 0.3010576],\n",
       "       ['Dominica', 2019, -23.080479, -38.151115],\n",
       "       ['Dominican Republic', 2019, 8.730231, -13.412835],\n",
       "       ['Ecuador', 2019, 49.537415, 18.408857],\n",
       "       ['Egypt', 2019, 49.011295, 27.182854],\n",
       "       ['El Salvador', 2019, -48.817753, 16.539522],\n",
       "       ['Equatorial Guinea', 2019, 39.629795, 35.655277],\n",
       "       ['Eritrea', 2019, -5.2079782, 37.9264],\n",
       "       ['Estonia', 2019, 31.224371, 3.3604424],\n",
       "       ['Eswatini', 2019, -1.8896993, 9.516769],\n",
       "       ['Ethiopia', 2019, -49.797195, 48.155293],\n",
       "       ['Falkland Islands (Malvinas)', 2019, -16.46646, 60.471268],\n",
       "       ['Faroe Islands', 2019, -3.2941728, 70.459694],\n",
       "       ['Fiji', 2019, -27.566225, 35.530907],\n",
       "       ['Finland', 2019, 27.998459, -23.493998],\n",
       "       ['France', 2019, 11.696553, -63.418446],\n",
       "       ['Free Zones', 2019, 11.02422, 8.84379],\n",
       "       ['French Polynesia', 2019, -66.1401, 2.2633648],\n",
       "       ['French Southern and Antarctic Te', 2019, -62.15827, -7.7610526],\n",
       "       ['Gabon', 2019, 41.260284, 39.189648],\n",
       "       ['Gambia', 2019, -39.01188, -25.053047],\n",
       "       ['Georgia', 2019, -0.7903492, 40.455532],\n",
       "       ['Germany', 2019, -0.019905303, -79.2236],\n",
       "       ['Ghana', 2019, 43.892693, 36.791252],\n",
       "       ['Gibraltar', 2019, -4.641947, -2.753907],\n",
       "       ['Greece', 2019, 56.384026, 20.137514],\n",
       "       ['Greenland', 2019, -4.434999, 70.41435],\n",
       "       ['Grenada', 2019, -55.912437, -6.883901],\n",
       "       ['Guam', 2019, -40.587566, -48.8769],\n",
       "       ['Guatemala', 2019, -55.51867, 55.337193],\n",
       "       ['Guinea', 2019, 16.224663, 48.03559],\n",
       "       ['Guinea-Bissau', 2019, -37.218327, 29.204994],\n",
       "       ['Guyana', 2019, -43.080566, 40.554424],\n",
       "       ['Haiti', 2019, -37.858944, 34.64212],\n",
       "       ['Honduras', 2019, -46.175835, 56.90348],\n",
       "       ['Hong Kong, China', 2019, 49.828762, -54.244717],\n",
       "       ['Hungary', 2019, 20.697695, -43.326794],\n",
       "       ['Iceland', 2019, -0.3194802, 72.43617],\n",
       "       ['India', 2019, 67.818146, -14.2453985],\n",
       "       ['Indonesia', 2019, 64.53934, 1.1513133],\n",
       "       ['Iran, Islamic Republic of', 2019, 64.44841, 18.632996],\n",
       "       ['Iraq', 2019, 79.37638, -13.463925],\n",
       "       ['Ireland', 2019, 53.15189, -15.038862],\n",
       "       ['Israel', 2019, 21.203568, -10.542436],\n",
       "       ['Italy', 2019, 17.375149, -60.62206],\n",
       "       ['Jamaica', 2019, -13.808447, 26.434565],\n",
       "       ['Japan', 2019, 1.3161654, -75.21565],\n",
       "       ['Jordan', 2019, 6.512575, 0.52259386],\n",
       "       ['Kazakhstan', 2019, 74.71976, 5.5397863],\n",
       "       ['Kenya', 2019, -50.29479, 56.94681],\n",
       "       ['Kiribati', 2019, -34.99197, 38.47763],\n",
       "       [\"Korea, Democratic People's Repub\", 2019, -5.6593466, -4.8078485],\n",
       "       ['Korea, Republic of', 2019, 7.384448, -69.3045],\n",
       "       ['Kuwait', 2019, 78.08969, -4.2063975],\n",
       "       ['Kyrgyzstan', 2019, -3.1436274, 2.419595],\n",
       "       [\"Lao People's Democratic Republic\", 2019, 12.184362, 31.779602],\n",
       "       ['Latvia', 2019, 26.54424, 2.1758857],\n",
       "       ['Lebanon', 2019, -0.6633065, -11.903584],\n",
       "       ['Lesotho', 2019, -13.107954, -18.995674],\n",
       "       ['Liberia', 2019, -4.7539697, 37.514652],\n",
       "       ['Libya, State of', 2019, 69.32106, 11.49525],\n",
       "       ['Lithuania', 2019, 36.725273, 0.22742566],\n",
       "       ['Luxembourg', 2019, 26.755926, -2.8105714],\n",
       "       ['Macao, China', 2019, -0.39388147, -15.079053],\n",
       "       ['Macedonia, North', 2019, 2.5993562, 8.799103],\n",
       "       ['Madagascar', 2019, -45.727882, 50.343884],\n",
       "       ['Malawi', 2019, -35.41849, 6.2087245],\n",
       "       ['Malaysia', 2019, 52.888233, -45.34559],\n",
       "       ['Maldives', 2019, -32.53669, 44.378204],\n",
       "       ['Mali', 2019, -5.5152464, -38.654243],\n",
       "       ['Malta', 2019, 17.716766, 21.84604],\n",
       "       ['Marshall Islands', 2019, -30.554665, 35.98008],\n",
       "       ['Mauritania', 2019, -5.125138, 68.08435],\n",
       "       ['Mauritius', 2019, -59.354107, 24.935167],\n",
       "       ['Mexico', 2019, 2.5628488, -73.06226],\n",
       "       ['Micronesia, Federated States of', 2019, -29.609997, 44.34893],\n",
       "       ['Moldova, Republic of', 2019, 4.004736, -16.41696],\n",
       "       ['Mongolia', 2019, 21.480442, 47.201096],\n",
       "       ['Montenegro', 2019, -19.467205, 6.988151],\n",
       "       ['Montserrat', 2019, -36.00095, -48.42576],\n",
       "       ['Morocco', 2019, 34.6411, -12.757232],\n",
       "       ['Mozambique', 2019, 24.538807, 38.62892],\n",
       "       ['Myanmar', 2019, 35.813084, 29.729729],\n",
       "       ['Namibia', 2019, -4.515102, 64.94912],\n",
       "       ['Nauru', 2019, -64.62623, 2.0229073],\n",
       "       ['Nepal', 2019, -35.171017, -2.5013165],\n",
       "       ['Netherlands', 2019, 27.151812, -55.255196],\n",
       "       ['New Caledonia', 2019, -12.609048, 40.143833],\n",
       "       ['New Zealand', 2019, -17.765873, 78.58972],\n",
       "       ['Nicaragua', 2019, -38.355095, 58.320236],\n",
       "       ['Niger', 2019, -2.9702203, 31.027798],\n",
       "       ['Nigeria', 2019, 75.52129, 1.9672598],\n",
       "       ['Niue', 2019, -37.34571, -41.073895],\n",
       "       ['Norfolk Island', 2019, -26.43416, -44.584396],\n",
       "       ['Northern Mariana Islands', 2019, -33.224827, -41.570766],\n",
       "       ['Norway', 2019, 84.27899, -9.062883],\n",
       "       ['Oman', 2019, 69.64712, 10.459802],\n",
       "       ['Pakistan', 2019, 5.6364884, -32.89574],\n",
       "       ['Palau', 2019, -63.78329, -1.2195615],\n",
       "       ['Palestine, State of', 2019, -24.089407, -5.347232],\n",
       "       ['Panama', 2019, 16.694475, 24.430458],\n",
       "       ['Papua New Guinea', 2019, 43.312088, 38.9941],\n",
       "       ['Paraguay', 2019, 16.212719, 36.16465],\n",
       "       ['Peru', 2019, 17.877228, 54.592953],\n",
       "       ['Philippines', 2019, 49.652493, -37.071735],\n",
       "       ['Pitcairn', 2019, -37.058342, -42.178448],\n",
       "       ['Poland', 2019, 17.574125, -48.733078],\n",
       "       ['Portugal', 2019, 29.456568, -30.26498],\n",
       "       ['Qatar', 2019, 77.904724, -6.338323],\n",
       "       ['Romania', 2019, 26.758018, -34.68709],\n",
       "       ['Russian Federation', 2019, 82.340775, -22.071062],\n",
       "       ['Rwanda', 2019, -32.840706, 14.513111],\n",
       "       ['Saint Helena', 2019, -64.68073, 1.982774],\n",
       "       ['Saint Kitts and Nevis', 2019, -7.668415, -21.170414],\n",
       "       ['Saint Lucia', 2019, -28.464687, -14.459335],\n",
       "       ['Saint Vincent and the Grenadines', 2019, -35.790154, -16.833595],\n",
       "       ['Samoa', 2019, -62.985077, 3.0034957],\n",
       "       ['Sao Tome and Principe', 2019, -43.670815, -42.528458],\n",
       "       ['Saudi Arabia', 2019, 15.315937, -4.8822756],\n",
       "       ['Senegal', 2019, -12.129897, 58.11937],\n",
       "       ['Serbia', 2019, 30.145227, 2.9459126],\n",
       "       ['Serbia and Montenegro', 2019, -45.39996, -48.624702],\n",
       "       ['Seychelles', 2019, -60.421806, 22.980055],\n",
       "       ['Ship stores and bunkers', 2019, -34.160492, 38.76727],\n",
       "       ['Sierra Leone', 2019, -4.711772, 38.088806],\n",
       "       ['Singapore', 2019, 53.000137, -50.094654],\n",
       "       ['Sint Maarten (Dutch part)', 2019, -39.1847, -40.073544],\n",
       "       ['Slovakia', 2019, 17.212152, -45.036827],\n",
       "       ['Slovenia', 2019, 29.38268, -20.406168],\n",
       "       ['Solomon Islands', 2019, -55.28952, 19.097666],\n",
       "       ['Somalia', 2019, -52.4583, 1.1035165],\n",
       "       ['South Africa', 2019, 32.920982, -29.424522],\n",
       "       ['South Sudan', 2019, 17.54794, 30.052107],\n",
       "       ['Spain', 2019, 5.7722335, -58.330948],\n",
       "       ['Sri Lanka', 2019, -46.95915, 59.365906],\n",
       "       ['St. Pierre and Miquelon', 2019, -61.189106, -10.082371],\n",
       "       ['Sudan', 2019, 3.6108522, 27.858208],\n",
       "       ['Suriname', 2019, -38.976944, 27.451345],\n",
       "       ['Sweden', 2019, 21.9004, -45.609486],\n",
       "       ['Switzerland', 2019, 54.9235, -14.901394],\n",
       "       ['Syrian Arab Republic', 2019, -32.36953, -2.7978895],\n",
       "       ['Taipei, Chinese', 2019, 50.53751, -50.762096],\n",
       "       ['Tajikistan', 2019, -7.3212886, 33.48801],\n",
       "       ['Tanzania, United Republic of', 2019, -34.969364, 50.691704],\n",
       "       ['Thailand', 2019, 18.770071, -49.751698],\n",
       "       ['Timor-Leste', 2019, -14.742408, 15.279114],\n",
       "       ['Togo', 2019, -5.9085636, 1.3552895],\n",
       "       ['Tokelau', 2019, -30.262705, -33.230106],\n",
       "       ['Tonga', 2019, -55.604614, -18.070246],\n",
       "       ['Trinidad and Tobago', 2019, 50.29144, 37.021557],\n",
       "       ['Tunisia', 2019, 29.289528, 6.485809],\n",
       "       ['Turkey', 2019, 17.545034, -44.161926],\n",
       "       ['Turkmenistan', 2019, 57.254436, 26.99405],\n",
       "       ['Turks and Caicos Islands', 2019, -50.718857, -22.716997],\n",
       "       ['Tuvalu', 2019, -64.306335, -2.0369666],\n",
       "       ['Uganda', 2019, -43.613247, 53.136757],\n",
       "       ['Ukraine', 2019, 34.08949, 16.787493],\n",
       "       ['United Arab Emirates', 2019, 76.894684, -17.071596],\n",
       "       ['United Kingdom', 2019, 11.754432, -61.51359],\n",
       "       ['United States Minor Outlying Isl', 2019, -18.450233, 13.094225],\n",
       "       ['United States of America', 2019, 5.199737, -76.84296],\n",
       "       ['Uruguay', 2019, -31.235754, 62.813793],\n",
       "       ['Uzbekistan', 2019, 25.54344, 29.34762],\n",
       "       ['Vanuatu', 2019, -31.86715, 42.115467],\n",
       "       ['Venezuela, Bolivarian Republic o', 2019, 61.38013, 20.628271],\n",
       "       ['Viet Nam', 2019, 49.092342, -46.6266],\n",
       "       ['Wallis and Futuna Islands', 2019, -30.704935, -41.678696],\n",
       "       ['Western Sahara', 2019, -47.41684, -44.164078],\n",
       "       ['Yemen', 2019, 14.481908, 26.487007],\n",
       "       ['Zambia', 2019, 7.680627, 54.45177],\n",
       "       ['Zimbabwe', 2019, -11.701775, 39.333473]], dtype=object)"
      ]
     },
     "execution_count": 19,
     "metadata": {},
     "output_type": "execute_result"
    }
   ],
   "source": [
    "# DATA START HERE\n",
    "df_SU = pd.read_csv(\"df_SU.csv\")\n",
    "df_SU = df_SU.loc[df_SU['1'] == 2019]\n",
    "SU = df_SU.to_numpy()\n",
    "SU"
   ]
  },
  {
   "cell_type": "code",
   "execution_count": 55,
   "metadata": {},
   "outputs": [
    {
     "data": {
      "text/plain": [
       "array([381456.0, 1028431.0, 1839700.0, 1839700.0, 1839700.0, 1839700.0,\n",
       "       3679400.0, 3757488.0, 127460.0, 4283102.0, 1443776.0, 254285.0,\n",
       "       27685.0, 9518.0, 469902.0, 6669463.0, 6669463.0, 6669463.0,\n",
       "       6669463.0, 6669463.0, 6669463.0, 6669463.0, 6669463.0, 6669463.0,\n",
       "       6669463.0, 136703.0, 8479015.0, 765606.0, 4608596.0, 593184.0,\n",
       "       198345.0, 634924.0, 634924.0, 846336.0, 899020.0, 10070.0, 11081.0,\n",
       "       1234513.0, 1234513.0, 1234513.0, 1234513.0, 1234513.0, 1234513.0,\n",
       "       1234513.0, 1234513.0, 1234513.0, 1234513.0, 1234513.0, 1234513.0,\n",
       "       9667.0, 42376.0, 443075.0, 22131.0, 774330.0, 1228897.0, 560622.0,\n",
       "       161943.0, 237711.0, 170350.0, 375107.0, 375107.0, 375107.0,\n",
       "       375107.0, 375107.0, 375107.0, 375107.0, 375107.0, 375107.0,\n",
       "       375107.0, 375107.0, 375107.0, 375107.0, 4394148.0, 2126627.0,\n",
       "       9302.0, 1886128.0, 19699.0, 54409.0, 202294.0, 60619.0, 60619.0,\n",
       "       60619.0, 40187477.0, 33873182.0, 90091.0, 28958658.0, 28958658.0,\n",
       "       28958658.0, 28958658.0, 28958658.0, 28958658.0, 28958658.0,\n",
       "       28958658.0, 28958658.0, 28958658.0, 28958658.0, 28958658.0,\n",
       "       28958658.0], dtype=object)"
      ]
     },
     "execution_count": 55,
     "metadata": {},
     "output_type": "execute_result"
    }
   ],
   "source": [
    "# df = pd.read_csv('export_2hs_time.csv')  \n",
    "# df_pivot = pd.pivot_table(df, values='value', index=['exporter','year_at'], columns=['hscode'], aggfunc=np.sum)\n",
    "# df_pivot = df_pivot.fillna(0)\n",
    "# df_pivot.to_csv(\"df_pivot.csv\",index=True)\n",
    "df_pivot = pd.read_csv(\"df_pivot.csv\")\n"
   ]
  },
  {
   "cell_type": "code",
   "execution_count": 20,
   "metadata": {},
   "outputs": [],
   "source": [
    "C = list(SU[:,0])\n",
    "T = list(SU[:,1])\n",
    "X = SU[:,2].astype(float) \n",
    "Y = SU[:,3].astype(float) \n",
    "X = list(np.nan_to_num( X ))\n",
    "Y = list(np.nan_to_num( Y ))\n",
    "XY = np.transpose(np.asarray([X,Y]))\n",
    "tree = KDTree(XY) "
   ]
  },
  {
   "cell_type": "code",
   "execution_count": 75,
   "metadata": {},
   "outputs": [
    {
     "name": "stdout",
     "output_type": "stream",
     "text": [
      "Thailand 2019 18.770071 -49.751698\n",
      "[[0.         1.5709467  4.96559364 5.19200153]] [[205 167 188 199]]\n",
      "Thailand\n",
      "Poland\n"
     ]
    },
    {
     "ename": "IndexError",
     "evalue": "index 0 is out of bounds for axis 0 with size 0",
     "output_type": "error",
     "traceback": [
      "\u001b[1;31m---------------------------------------------------------------------------\u001b[0m",
      "\u001b[1;31mIndexError\u001b[0m                                Traceback (most recent call last)",
      "\u001b[1;32m<ipython-input-75-dd983e3a0b7e>\u001b[0m in \u001b[0;36m<module>\u001b[1;34m\u001b[0m\n\u001b[0;32m     22\u001b[0m             \u001b[0mdf_pv\u001b[0m \u001b[1;33m=\u001b[0m \u001b[0mdf_pv\u001b[0m\u001b[1;33m.\u001b[0m\u001b[0mloc\u001b[0m\u001b[1;33m[\u001b[0m\u001b[0mdf_pv\u001b[0m\u001b[1;33m[\u001b[0m\u001b[1;34m'year_at'\u001b[0m\u001b[1;33m]\u001b[0m \u001b[1;33m==\u001b[0m \u001b[1;36m2019\u001b[0m\u001b[1;33m]\u001b[0m\u001b[1;33m\u001b[0m\u001b[1;33m\u001b[0m\u001b[0m\n\u001b[0;32m     23\u001b[0m \u001b[1;31m#             print(df_pv)\u001b[0m\u001b[1;33m\u001b[0m\u001b[1;33m\u001b[0m\u001b[1;33m\u001b[0m\u001b[0m\n\u001b[1;32m---> 24\u001b[1;33m             \u001b[0my\u001b[0m \u001b[1;33m=\u001b[0m \u001b[0mdf_pv\u001b[0m\u001b[1;33m.\u001b[0m\u001b[0mto_numpy\u001b[0m\u001b[1;33m(\u001b[0m\u001b[1;33m)\u001b[0m\u001b[1;33m[\u001b[0m\u001b[1;36m0\u001b[0m\u001b[1;33m]\u001b[0m\u001b[1;33m[\u001b[0m\u001b[1;36m2\u001b[0m\u001b[1;33m:\u001b[0m\u001b[1;33m]\u001b[0m\u001b[1;33m\u001b[0m\u001b[1;33m\u001b[0m\u001b[0m\n\u001b[0m\u001b[0;32m     25\u001b[0m             \u001b[0mx\u001b[0m \u001b[1;33m=\u001b[0m\u001b[0mdf_pv\u001b[0m\u001b[1;33m.\u001b[0m\u001b[0mkeys\u001b[0m\u001b[1;33m(\u001b[0m\u001b[1;33m)\u001b[0m\u001b[1;33m.\u001b[0m\u001b[0mto_numpy\u001b[0m\u001b[1;33m(\u001b[0m\u001b[1;33m)\u001b[0m\u001b[1;33m[\u001b[0m\u001b[1;36m2\u001b[0m\u001b[1;33m:\u001b[0m\u001b[1;33m]\u001b[0m\u001b[1;33m\u001b[0m\u001b[1;33m\u001b[0m\u001b[0m\n\u001b[0;32m     26\u001b[0m             \u001b[0maxes\u001b[0m\u001b[1;33m[\u001b[0m\u001b[0mindex\u001b[0m\u001b[1;33m]\u001b[0m\u001b[1;33m.\u001b[0m\u001b[0mbar\u001b[0m\u001b[1;33m(\u001b[0m\u001b[0mx\u001b[0m\u001b[1;33m,\u001b[0m\u001b[0my\u001b[0m\u001b[1;33m)\u001b[0m\u001b[1;33m\u001b[0m\u001b[1;33m\u001b[0m\u001b[0m\n",
      "\u001b[1;31mIndexError\u001b[0m: index 0 is out of bounds for axis 0 with size 0"
     ]
    },
    {
     "data": {
      "image/png": "[encoded data removed]",
      "text/plain": [
       "<Figure size 432x288 with 4 Axes>"
      ]
     },
     "metadata": {
      "needs_background": "light"
     },
     "output_type": "display_data"
    }
   ],
   "source": [
    "fig2 = plt.figure(constrained_layout=True)\n",
    "spec2 = gridspec.GridSpec(ncols=2, nrows=2, figure=fig2)\n",
    "f2_ax1 = fig2.add_subplot(spec2[0, 0])\n",
    "f2_ax2 = fig2.add_subplot(spec2[0, 1])\n",
    "f2_ax3 = fig2.add_subplot(spec2[1, 0])\n",
    "f2_ax4 = fig2.add_subplot(spec2[1, 1])\n",
    "axes = []\n",
    "axes.append(f2_ax1)\n",
    "axes.append(f2_ax2)\n",
    "axes.append(f2_ax3)\n",
    "axes.append(f2_ax4)\n",
    "#################\n",
    "for i in range(len(C)) :\n",
    "    if C[i] == \"Thailand\":\n",
    "        print(C[i], T[i] , X[i] , Y[i])\n",
    "        position = [X[i] , Y[i]]\n",
    "        distance_list , indexes_list = tree.query([position] , k=4)   \n",
    "        print(distance_list , indexes_list)\n",
    "        for index, item in enumerate(indexes_list[0]) :\n",
    "            print(C[item])\n",
    "            df_pv = df_pivot.loc[df_pivot['exporter'] == str(C[item])]\n",
    "            df_pv = df_pv.loc[df_pv['year_at'] == 2019]\n",
    "#             print(df_pv)\n",
    "            y = df_pv.to_numpy()[0][2:]\n",
    "            x =df_pv.keys().to_numpy()[2:]\n",
    "            axes[index].bar(x,y)\n",
    "            \n",
    "            \n",
    "        break;"
   ]
  },
  {
   "cell_type": "code",
   "execution_count": 74,
   "metadata": {},
   "outputs": [
    {
     "data": {
      "text/plain": [
       "<BarContainer object of 98 artists>"
      ]
     },
     "execution_count": 74,
     "metadata": {},
     "output_type": "execute_result"
    }
   ],
   "source": [
    "index = 0\n",
    "df_pv = df_pivot.loc[df_pivot['exporter'] == \"Thailand\"]\n",
    "df_pv = df_pv.loc[df_pv['year_at'] == 2019]\n",
    "df_pv\n",
    "#             print(df_pv)\n",
    "# y = df_pv.to_numpy()[0][2:]\n",
    "# x =df_pv.keys().to_numpy()[2:]\n",
    "# axes[index].bar(x,y)"
   ]
  },
  {
   "cell_type": "code",
   "execution_count": 66,
   "metadata": {},
   "outputs": [
    {
     "ename": "NameError",
     "evalue": "name 'pls' is not defined",
     "output_type": "error",
     "traceback": [
      "\u001b[1;31m---------------------------------------------------------------------------\u001b[0m",
      "\u001b[1;31mNameError\u001b[0m                                 Traceback (most recent call last)",
      "\u001b[1;32m<ipython-input-66-a2eab003c1b9>\u001b[0m in \u001b[0;36m<module>\u001b[1;34m\u001b[0m\n\u001b[1;32m----> 1\u001b[1;33m \u001b[0mpls\u001b[0m\u001b[1;33m.\u001b[0m\u001b[0mshow\u001b[0m\u001b[1;33m(\u001b[0m\u001b[1;33m)\u001b[0m\u001b[1;33m\u001b[0m\u001b[1;33m\u001b[0m\u001b[0m\n\u001b[0m\u001b[0;32m      2\u001b[0m \u001b[1;33m\u001b[0m\u001b[0m\n",
      "\u001b[1;31mNameError\u001b[0m: name 'pls' is not defined"
     ]
    }
   ],
   "source": [
    "\n",
    "\n"
   ]
  },
  {
   "cell_type": "code",
   "execution_count": null,
   "metadata": {},
   "outputs": [],
   "source": []
  }
 ],
 "metadata": {
  "kernelspec": {
   "display_name": "Python 3",
   "language": "python",
   "name": "python3"
  },
  "language_info": {
   "codemirror_mode": {
    "name": "ipython",
    "version": 3
   },
   "file_extension": ".py",
   "mimetype": "text/x-python",
   "name": "python",
   "nbconvert_exporter": "python",
   "pygments_lexer": "ipython3",
   "version": "3.8.7"
  }
 },
 "nbformat": 4,
 "nbformat_minor": 4
}
